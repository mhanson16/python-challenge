{
 "cells": [
  {
   "cell_type": "code",
   "execution_count": 45,
   "id": "a5497c04",
   "metadata": {},
   "outputs": [],
   "source": [
    "# Import Dependencies\n",
    "import pandas as pd\n",
    "import os"
   ]
  },
  {
   "cell_type": "code",
   "execution_count": 46,
   "id": "9736e8e2",
   "metadata": {
    "scrolled": true
   },
   "outputs": [
    {
     "data": {
      "text/html": [
       "<div>\n",
       "<style scoped>\n",
       "    .dataframe tbody tr th:only-of-type {\n",
       "        vertical-align: middle;\n",
       "    }\n",
       "\n",
       "    .dataframe tbody tr th {\n",
       "        vertical-align: top;\n",
       "    }\n",
       "\n",
       "    .dataframe thead th {\n",
       "        text-align: right;\n",
       "    }\n",
       "</style>\n",
       "<table border=\"1\" class=\"dataframe\">\n",
       "  <thead>\n",
       "    <tr style=\"text-align: right;\">\n",
       "      <th></th>\n",
       "      <th>Ballot ID</th>\n",
       "      <th>County</th>\n",
       "      <th>Candidate</th>\n",
       "    </tr>\n",
       "  </thead>\n",
       "  <tbody>\n",
       "    <tr>\n",
       "      <th>0</th>\n",
       "      <td>1323913</td>\n",
       "      <td>Jefferson</td>\n",
       "      <td>Charles Casper Stockham</td>\n",
       "    </tr>\n",
       "    <tr>\n",
       "      <th>1</th>\n",
       "      <td>1005842</td>\n",
       "      <td>Jefferson</td>\n",
       "      <td>Charles Casper Stockham</td>\n",
       "    </tr>\n",
       "    <tr>\n",
       "      <th>2</th>\n",
       "      <td>1880345</td>\n",
       "      <td>Jefferson</td>\n",
       "      <td>Charles Casper Stockham</td>\n",
       "    </tr>\n",
       "    <tr>\n",
       "      <th>3</th>\n",
       "      <td>1600337</td>\n",
       "      <td>Jefferson</td>\n",
       "      <td>Charles Casper Stockham</td>\n",
       "    </tr>\n",
       "    <tr>\n",
       "      <th>4</th>\n",
       "      <td>1835994</td>\n",
       "      <td>Jefferson</td>\n",
       "      <td>Charles Casper Stockham</td>\n",
       "    </tr>\n",
       "  </tbody>\n",
       "</table>\n",
       "</div>"
      ],
      "text/plain": [
       "   Ballot ID     County                Candidate\n",
       "0    1323913  Jefferson  Charles Casper Stockham\n",
       "1    1005842  Jefferson  Charles Casper Stockham\n",
       "2    1880345  Jefferson  Charles Casper Stockham\n",
       "3    1600337  Jefferson  Charles Casper Stockham\n",
       "4    1835994  Jefferson  Charles Casper Stockham"
      ]
     },
     "execution_count": 46,
     "metadata": {},
     "output_type": "execute_result"
    }
   ],
   "source": [
    "# read in csv file\n",
    "csv_path = \"Resources/election_data.csv\"\n",
    "poll_df = pd.read_csv(csv_path)\n",
    "poll_df.head()"
   ]
  },
  {
   "cell_type": "code",
   "execution_count": 56,
   "id": "761267c4",
   "metadata": {},
   "outputs": [
    {
     "data": {
      "text/plain": [
       "'369711'"
      ]
     },
     "execution_count": 56,
     "metadata": {},
     "output_type": "execute_result"
    }
   ],
   "source": [
    "# The total number of votes cast\n",
    "vote_total = poll_df[\"Ballot ID\"].count()\n",
    "# Convert to string\n",
    "vote_total_str = str(vote_total)\n",
    "vote_total_str\n"
   ]
  },
  {
   "cell_type": "code",
   "execution_count": 57,
   "id": "8cbfe512",
   "metadata": {},
   "outputs": [
    {
     "data": {
      "text/plain": [
       "array(['Charles Casper Stockham', 'Diana DeGette', 'Raymon Anthony Doane'],\n",
       "      dtype=object)"
      ]
     },
     "execution_count": 57,
     "metadata": {},
     "output_type": "execute_result"
    }
   ],
   "source": [
    "# A complete list of candidates who received votes\n",
    "candidates_list = poll_df[\"Candidate\"].unique()\n",
    "candidates_list"
   ]
  },
  {
   "cell_type": "code",
   "execution_count": 58,
   "id": "eb8c7ff7",
   "metadata": {},
   "outputs": [
    {
     "data": {
      "text/plain": [
       "'85213'"
      ]
     },
     "execution_count": 58,
     "metadata": {},
     "output_type": "execute_result"
    }
   ],
   "source": [
    "# The # of votes each Charles won\n",
    "Charles_df = poll_df[poll_df['Candidate']=='Charles Casper Stockham']\n",
    "Charles = Charles_df[\"Ballot ID\"].count()\n",
    "\n",
    "# Convert to string\n",
    "Charles_str = str(Charles)\n",
    "Charles_str"
   ]
  },
  {
   "cell_type": "code",
   "execution_count": 59,
   "id": "a83b6422",
   "metadata": {},
   "outputs": [
    {
     "data": {
      "text/plain": [
       "'23.049'"
      ]
     },
     "execution_count": 59,
     "metadata": {},
     "output_type": "execute_result"
    }
   ],
   "source": [
    "# The % of votes each Charles won\n",
    "charles_per =( 1 - ((vote_total-Charles)/vote_total))*100\n",
    "# round to 3 decials \n",
    "charles_per = round(charles_per,3)\n",
    "charles_per\n",
    "\n",
    "# Convert to string\n",
    "charles_per_str = str(charles_per)\n",
    "charles_per_str"
   ]
  },
  {
   "cell_type": "code",
   "execution_count": 60,
   "id": "efe77d9b",
   "metadata": {},
   "outputs": [
    {
     "data": {
      "text/plain": [
       "'272892'"
      ]
     },
     "execution_count": 60,
     "metadata": {},
     "output_type": "execute_result"
    }
   ],
   "source": [
    "# The # of votes each Diana won\n",
    "Diana_df = poll_df[poll_df['Candidate']=='Diana DeGette']\n",
    "Diana = Diana_df[\"Ballot ID\"].count()\n",
    "Diana\n",
    "\n",
    "# Convert to string\n",
    "Diana_str = str(Diana)\n",
    "Diana_str"
   ]
  },
  {
   "cell_type": "code",
   "execution_count": 61,
   "id": "6e42949f",
   "metadata": {},
   "outputs": [
    {
     "data": {
      "text/plain": [
       "'73.812'"
      ]
     },
     "execution_count": 61,
     "metadata": {},
     "output_type": "execute_result"
    }
   ],
   "source": [
    "# The % of votes each Diana won\n",
    "Diana_per =( 1 - ((vote_total-Diana)/vote_total))*100\n",
    "# round to 3 decials \n",
    "Diana_per = round(Diana_per,3)\n",
    "Diana_per\n",
    "\n",
    "# Convert to string\n",
    "Diana_per_str = str(Diana_per)\n",
    "Diana_per_str"
   ]
  },
  {
   "cell_type": "code",
   "execution_count": 62,
   "id": "a9551d34",
   "metadata": {},
   "outputs": [
    {
     "data": {
      "text/plain": [
       "'11606'"
      ]
     },
     "execution_count": 62,
     "metadata": {},
     "output_type": "execute_result"
    }
   ],
   "source": [
    "# The # of votes each Raymon won\n",
    "Raymon_df = poll_df[poll_df['Candidate']=='Raymon Anthony Doane']\n",
    "Raymon = Raymon_df[\"Ballot ID\"].count()\n",
    "Raymon\n",
    "\n",
    "# Convert to string\n",
    "Raymon_str = str(Raymon)\n",
    "Raymon_str"
   ]
  },
  {
   "cell_type": "code",
   "execution_count": 63,
   "id": "d12a250f",
   "metadata": {},
   "outputs": [
    {
     "data": {
      "text/plain": [
       "'3.139'"
      ]
     },
     "execution_count": 63,
     "metadata": {},
     "output_type": "execute_result"
    }
   ],
   "source": [
    "# The % of votes each Raymon won\n",
    "Raymon_per =( 1 - ((vote_total-Raymon)/vote_total))*100\n",
    "Raymon_per = round(Raymon_per,3)\n",
    "Raymon_per\n",
    "\n",
    "# Convert to string\n",
    "Raymon_per_str = str(Raymon_per)\n",
    "Raymon_per_str"
   ]
  },
  {
   "cell_type": "code",
   "execution_count": 67,
   "id": "e007b9ad",
   "metadata": {},
   "outputs": [
    {
     "name": "stdout",
     "output_type": "stream",
     "text": [
      "Election Results\n",
      "----------------------------\n",
      "Total Votes: 369711\n",
      "----------------------------\n",
      "Charles Casper Stockham: 23.049% (85213)\n",
      "Diana DeGette: 73.812% (272892)\n",
      "Raymon Anthony Doane: 3.139% (11606)\n",
      "----------------------------\n",
      "Winner: Diana DeGette\n",
      "----------------------------\n"
     ]
    }
   ],
   "source": [
    "print(os.linesep.join(['Election Results', '----------------------------', 'Total Votes: '+ vote_total_str,\n",
    "                       '----------------------------', \n",
    "                       'Charles Casper Stockham: '+ charles_per_str + '% (' + Charles_str + ')',\n",
    "                       'Diana DeGette: '+ Diana_per_str + '% (' + Diana_str + ')',\n",
    "                      'Raymon Anthony Doane: '+ Raymon_per_str + '% (' + Raymon_str + ')',\n",
    "                       '----------------------------',\n",
    "                      'Winner: Diana DeGette',\n",
    "                      '----------------------------']))"
   ]
  },
  {
   "cell_type": "code",
   "execution_count": null,
   "id": "a5a664dd",
   "metadata": {},
   "outputs": [],
   "source": []
  }
 ],
 "metadata": {
  "kernelspec": {
   "display_name": "PythonData",
   "language": "python",
   "name": "pythondata"
  },
  "language_info": {
   "codemirror_mode": {
    "name": "ipython",
    "version": 3
   },
   "file_extension": ".py",
   "mimetype": "text/x-python",
   "name": "python",
   "nbconvert_exporter": "python",
   "pygments_lexer": "ipython3",
   "version": "3.9.13"
  }
 },
 "nbformat": 4,
 "nbformat_minor": 5
}
