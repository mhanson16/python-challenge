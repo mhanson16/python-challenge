{
 "cells": [
  {
   "cell_type": "code",
   "execution_count": 224,
   "id": "667d0033",
   "metadata": {},
   "outputs": [],
   "source": [
    "# Import Dependencies\n",
    "import pandas as pd\n",
    "import os"
   ]
  },
  {
   "cell_type": "code",
   "execution_count": 225,
   "id": "8dcb5338",
   "metadata": {},
   "outputs": [
    {
     "data": {
      "text/html": [
       "<div>\n",
       "<style scoped>\n",
       "    .dataframe tbody tr th:only-of-type {\n",
       "        vertical-align: middle;\n",
       "    }\n",
       "\n",
       "    .dataframe tbody tr th {\n",
       "        vertical-align: top;\n",
       "    }\n",
       "\n",
       "    .dataframe thead th {\n",
       "        text-align: right;\n",
       "    }\n",
       "</style>\n",
       "<table border=\"1\" class=\"dataframe\">\n",
       "  <thead>\n",
       "    <tr style=\"text-align: right;\">\n",
       "      <th></th>\n",
       "      <th>Date</th>\n",
       "      <th>Profit/Losses</th>\n",
       "    </tr>\n",
       "  </thead>\n",
       "  <tbody>\n",
       "    <tr>\n",
       "      <th>0</th>\n",
       "      <td>Jan-10</td>\n",
       "      <td>1088983</td>\n",
       "    </tr>\n",
       "    <tr>\n",
       "      <th>1</th>\n",
       "      <td>Feb-10</td>\n",
       "      <td>-354534</td>\n",
       "    </tr>\n",
       "    <tr>\n",
       "      <th>2</th>\n",
       "      <td>Mar-10</td>\n",
       "      <td>276622</td>\n",
       "    </tr>\n",
       "    <tr>\n",
       "      <th>3</th>\n",
       "      <td>Apr-10</td>\n",
       "      <td>-728133</td>\n",
       "    </tr>\n",
       "    <tr>\n",
       "      <th>4</th>\n",
       "      <td>May-10</td>\n",
       "      <td>852993</td>\n",
       "    </tr>\n",
       "  </tbody>\n",
       "</table>\n",
       "</div>"
      ],
      "text/plain": [
       "     Date  Profit/Losses\n",
       "0  Jan-10        1088983\n",
       "1  Feb-10        -354534\n",
       "2  Mar-10         276622\n",
       "3  Apr-10        -728133\n",
       "4  May-10         852993"
      ]
     },
     "execution_count": 225,
     "metadata": {},
     "output_type": "execute_result"
    }
   ],
   "source": [
    "# read in csv file\n",
    "csv_path = \"Resources/budget_data.csv\"\n",
    "bank_df = pd.read_csv(csv_path)\n",
    "bank_df.head()"
   ]
  },
  {
   "cell_type": "code",
   "execution_count": 226,
   "id": "268830c8",
   "metadata": {},
   "outputs": [
    {
     "data": {
      "text/plain": [
       "'86'"
      ]
     },
     "execution_count": 226,
     "metadata": {},
     "output_type": "execute_result"
    }
   ],
   "source": [
    "# The total number of months included in the dataset\n",
    "total_months = bank_df[\"Date\"].count()\n",
    "# convert from int to string\n",
    "total_months= str(total_months)\n",
    "total_months"
   ]
  },
  {
   "cell_type": "code",
   "execution_count": 227,
   "id": "3b68fed2",
   "metadata": {},
   "outputs": [
    {
     "data": {
      "text/plain": [
       "'22564198'"
      ]
     },
     "execution_count": 227,
     "metadata": {},
     "output_type": "execute_result"
    }
   ],
   "source": [
    "# The net total amount of \"Profit/Losses\" over the entire period\n",
    "net_total = bank_df[\"Profit/Losses\"].sum()\n",
    "# convert from int to string\n",
    "net_total= str(net_total)\n",
    "net_total\n"
   ]
  },
  {
   "cell_type": "code",
   "execution_count": 228,
   "id": "402e0c50",
   "metadata": {},
   "outputs": [
    {
     "data": {
      "text/plain": [
       "'-8311.11'"
      ]
     },
     "execution_count": 228,
     "metadata": {},
     "output_type": "execute_result"
    }
   ],
   "source": [
    "# The changes in \"Profit/Losses\" over the entire period and assing to new column, \n",
    "# and then the average of those changes\n",
    "bank_df['Profit_diff'] = bank_df['Profit/Losses'].diff()\n",
    "bank_df.head()\n",
    "avg_total = bank_df[\"Profit_diff\"].mean()\n",
    "\n",
    "# round to 2 decimals\n",
    "avg_total = round(avg_total,2)\n",
    "avg_total\n",
    "\n",
    "# convert from int to string\n",
    "avg_total= str(avg_total)\n",
    "avg_total"
   ]
  },
  {
   "cell_type": "code",
   "execution_count": 248,
   "id": "2ef375ed",
   "metadata": {},
   "outputs": [],
   "source": [
    "# The greatest increase in profits (amount) over the entire period\n",
    "max_increase = bank_df[\"Profit_diff\"].max()\n",
    "# convert from int to string for final result\n",
    "# round to have no decimal places\n",
    "max_increase = round(max_increase) \n",
    "max_increase\n",
    "max_increase_str = str(max_increase)"
   ]
  },
  {
   "cell_type": "code",
   "execution_count": 249,
   "id": "4ebb9cd7",
   "metadata": {},
   "outputs": [
    {
     "data": {
      "text/plain": [
       "'Aug-16'"
      ]
     },
     "execution_count": 249,
     "metadata": {},
     "output_type": "execute_result"
    }
   ],
   "source": [
    "# The greatest increase in profits (date) over the entire period\n",
    "max_day = bank_df[bank_df['Profit_diff']==max_increase]['Date']\n",
    "# convert from int to string for final result\n",
    "max_day = str(max_day)\n",
    "#extracting just the date from the string output\n",
    "max_day=(max_day[6:12])\n",
    "max_day\n"
   ]
  },
  {
   "cell_type": "code",
   "execution_count": 253,
   "id": "990758ad",
   "metadata": {},
   "outputs": [],
   "source": [
    "# The greatest decrease in profits (amount) over the entire period\n",
    "max_decrease = bank_df[\"Profit_diff\"].min()\n",
    "\n",
    "# round to have no decimals and convert to string\n",
    "max_decrease = round(max_decrease)\n",
    "max_decrease\n",
    "max_decrease_str = str(max_decrease)"
   ]
  },
  {
   "cell_type": "code",
   "execution_count": 254,
   "id": "86139c68",
   "metadata": {},
   "outputs": [
    {
     "data": {
      "text/plain": [
       "'Feb-14'"
      ]
     },
     "execution_count": 254,
     "metadata": {},
     "output_type": "execute_result"
    }
   ],
   "source": [
    "# The greatest increase in profits (date) over the entire period\n",
    "min_day = bank_df[bank_df['Profit_diff']==max_decrease]['Date']\n",
    "min_day = str(min_day)\n",
    "#extracting just the date from the string output\n",
    "min_day=(min_day[6:12])\n",
    "min_day"
   ]
  },
  {
   "cell_type": "code",
   "execution_count": 255,
   "id": "ee7d2b3c",
   "metadata": {},
   "outputs": [
    {
     "name": "stdout",
     "output_type": "stream",
     "text": [
      "Financial Analysis\n",
      "----------------------------\n",
      "Total Months: 86\n",
      "Total: $22564198\n",
      "Average Change: $-8311.11\n",
      "Greatest Increase in Profits: Aug-16 ($1862002)\n",
      "Greatest Decrease in Profits: Feb-14 ($-1825558)\n"
     ]
    }
   ],
   "source": [
    "print(os.linesep.join(['Financial Analysis', '----------------------------', 'Total Months: '+ total_months\n",
    "                      , 'Total: $'+ net_total, 'Average Change: $'+ avg_total,\n",
    "                      'Greatest Increase in Profits: '+ max_day + ' ($' + max_increase_str + ')',\n",
    "                      'Greatest Decrease in Profits: '+ min_day + ' ($' + max_decrease_str + ')']))"
   ]
  },
  {
   "cell_type": "code",
   "execution_count": null,
   "id": "d4be8b8d",
   "metadata": {},
   "outputs": [],
   "source": []
  }
 ],
 "metadata": {
  "kernelspec": {
   "display_name": "PythonData",
   "language": "python",
   "name": "pythondata"
  },
  "language_info": {
   "codemirror_mode": {
    "name": "ipython",
    "version": 3
   },
   "file_extension": ".py",
   "mimetype": "text/x-python",
   "name": "python",
   "nbconvert_exporter": "python",
   "pygments_lexer": "ipython3",
   "version": "3.9.13"
  }
 },
 "nbformat": 4,
 "nbformat_minor": 5
}
